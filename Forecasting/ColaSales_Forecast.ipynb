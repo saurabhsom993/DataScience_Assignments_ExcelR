{
 "cells": [
  {
   "cell_type": "code",
   "execution_count": 1,
   "metadata": {
    "executionInfo": {
     "elapsed": 11,
     "status": "ok",
     "timestamp": 1629020562096,
     "user": {
      "displayName": "Saurabh Som",
      "photoUrl": "https://lh3.googleusercontent.com/a-/AOh14GhysCJxfbqo_2rWMMZok-n-nLQlva8gC8Q4pSnpB8A=s64",
      "userId": "08770525046703499927"
     },
     "user_tz": -330
    },
    "id": "I2B4Ou5CLOFs"
   },
   "outputs": [],
   "source": [
    "#Model Driven Model"
   ]
  },
  {
   "cell_type": "code",
   "execution_count": 69,
   "metadata": {
    "executionInfo": {
     "elapsed": 366,
     "status": "ok",
     "timestamp": 1629022405944,
     "user": {
      "displayName": "Saurabh Som",
      "photoUrl": "https://lh3.googleusercontent.com/a-/AOh14GhysCJxfbqo_2rWMMZok-n-nLQlva8gC8Q4pSnpB8A=s64",
      "userId": "08770525046703499927"
     },
     "user_tz": -330
    },
    "id": "cXKax5XQMCqj"
   },
   "outputs": [],
   "source": [
    "import numpy as np\n",
    "import pandas as pd\n",
    "import matplotlib.pyplot as plt\n",
    "import seaborn as sns"
   ]
  },
  {
   "cell_type": "code",
   "execution_count": 70,
   "metadata": {
    "colab": {
     "base_uri": "https://localhost:8080/",
     "height": 204
    },
    "executionInfo": {
     "elapsed": 9,
     "status": "ok",
     "timestamp": 1629022407431,
     "user": {
      "displayName": "Saurabh Som",
      "photoUrl": "https://lh3.googleusercontent.com/a-/AOh14GhysCJxfbqo_2rWMMZok-n-nLQlva8gC8Q4pSnpB8A=s64",
      "userId": "08770525046703499927"
     },
     "user_tz": -330
    },
    "id": "4slT8rUMMWPZ",
    "outputId": "06fe5ef1-fade-431d-e7d7-b2dd3ca01e29"
   },
   "outputs": [
    {
     "data": {
      "text/html": [
       "<div>\n",
       "<style scoped>\n",
       "    .dataframe tbody tr th:only-of-type {\n",
       "        vertical-align: middle;\n",
       "    }\n",
       "\n",
       "    .dataframe tbody tr th {\n",
       "        vertical-align: top;\n",
       "    }\n",
       "\n",
       "    .dataframe thead th {\n",
       "        text-align: right;\n",
       "    }\n",
       "</style>\n",
       "<table border=\"1\" class=\"dataframe\">\n",
       "  <thead>\n",
       "    <tr style=\"text-align: right;\">\n",
       "      <th></th>\n",
       "      <th>Quarter</th>\n",
       "      <th>Sales</th>\n",
       "    </tr>\n",
       "  </thead>\n",
       "  <tbody>\n",
       "    <tr>\n",
       "      <th>0</th>\n",
       "      <td>Q1_86</td>\n",
       "      <td>1734.827000</td>\n",
       "    </tr>\n",
       "    <tr>\n",
       "      <th>1</th>\n",
       "      <td>Q2_86</td>\n",
       "      <td>2244.960999</td>\n",
       "    </tr>\n",
       "    <tr>\n",
       "      <th>2</th>\n",
       "      <td>Q3_86</td>\n",
       "      <td>2533.804993</td>\n",
       "    </tr>\n",
       "    <tr>\n",
       "      <th>3</th>\n",
       "      <td>Q4_86</td>\n",
       "      <td>2154.962997</td>\n",
       "    </tr>\n",
       "    <tr>\n",
       "      <th>4</th>\n",
       "      <td>Q1_87</td>\n",
       "      <td>1547.818996</td>\n",
       "    </tr>\n",
       "  </tbody>\n",
       "</table>\n",
       "</div>"
      ],
      "text/plain": [
       "  Quarter        Sales\n",
       "0   Q1_86  1734.827000\n",
       "1   Q2_86  2244.960999\n",
       "2   Q3_86  2533.804993\n",
       "3   Q4_86  2154.962997\n",
       "4   Q1_87  1547.818996"
      ]
     },
     "execution_count": 70,
     "metadata": {
      "tags": []
     },
     "output_type": "execute_result"
    }
   ],
   "source": [
    "Cocacola = pd.read_csv(\"/content/sample_data/CocaCola_Sales_Rawdata.csv\",encoding = 'unicode_escape')\n",
    "Cocacola.head()"
   ]
  },
  {
   "cell_type": "code",
   "execution_count": 71,
   "metadata": {
    "colab": {
     "base_uri": "https://localhost:8080/"
    },
    "executionInfo": {
     "elapsed": 400,
     "status": "ok",
     "timestamp": 1629022411294,
     "user": {
      "displayName": "Saurabh Som",
      "photoUrl": "https://lh3.googleusercontent.com/a-/AOh14GhysCJxfbqo_2rWMMZok-n-nLQlva8gC8Q4pSnpB8A=s64",
      "userId": "08770525046703499927"
     },
     "user_tz": -330
    },
    "id": "jMSm1oSFOFuB",
    "outputId": "9745143b-29c3-4782-ee1d-8a89ff713905"
   },
   "outputs": [
    {
     "data": {
      "text/plain": [
       "(42, 2)"
      ]
     },
     "execution_count": 71,
     "metadata": {
      "tags": []
     },
     "output_type": "execute_result"
    }
   ],
   "source": [
    "Cocacola.shape"
   ]
  },
  {
   "cell_type": "code",
   "execution_count": 13,
   "metadata": {
    "colab": {
     "base_uri": "https://localhost:8080/",
     "height": 282
    },
    "executionInfo": {
     "elapsed": 453,
     "status": "ok",
     "timestamp": 1629021007861,
     "user": {
      "displayName": "Saurabh Som",
      "photoUrl": "https://lh3.googleusercontent.com/a-/AOh14GhysCJxfbqo_2rWMMZok-n-nLQlva8gC8Q4pSnpB8A=s64",
      "userId": "08770525046703499927"
     },
     "user_tz": -330
    },
    "id": "A4xUTyHfN6fl",
    "outputId": "519e47d4-4702-4765-83a5-9f25d7dc6564"
   },
   "outputs": [
    {
     "data": {
      "text/plain": [
       "<matplotlib.axes._subplots.AxesSubplot at 0x7f3031551c90>"
      ]
     },
     "execution_count": 13,
     "metadata": {
      "tags": []
     },
     "output_type": "execute_result"
    },
    {
     "data": {
      "image/png": "[encoded data removed]",
      "text/plain": [
       "<Figure size 432x288 with 1 Axes>"
      ]
     },
     "metadata": {
      "needs_background": "light",
      "tags": []
     },
     "output_type": "display_data"
    }
   ],
   "source": [
    "Cocacola.Sales.plot()"
   ]
  },
  {
   "cell_type": "code",
   "execution_count": 72,
   "metadata": {
    "executionInfo": {
     "elapsed": 360,
     "status": "ok",
     "timestamp": 1629022421498,
     "user": {
      "displayName": "Saurabh Som",
      "photoUrl": "https://lh3.googleusercontent.com/a-/AOh14GhysCJxfbqo_2rWMMZok-n-nLQlva8gC8Q4pSnpB8A=s64",
      "userId": "08770525046703499927"
     },
     "user_tz": -330
    },
    "id": "AXEOUdRlOAg2"
   },
   "outputs": [],
   "source": [
    "Cocacola['t']=np.arange(1,43)"
   ]
  },
  {
   "cell_type": "code",
   "execution_count": 91,
   "metadata": {
    "executionInfo": {
     "elapsed": 380,
     "status": "ok",
     "timestamp": 1629023078387,
     "user": {
      "displayName": "Saurabh Som",
      "photoUrl": "https://lh3.googleusercontent.com/a-/AOh14GhysCJxfbqo_2rWMMZok-n-nLQlva8gC8Q4pSnpB8A=s64",
      "userId": "08770525046703499927"
     },
     "user_tz": -330
    },
    "id": "9YnQUtjLOrL0"
   },
   "outputs": [],
   "source": [
    "Cocacola[\"t_squared\"] = Cocacola[\"t\"]*Cocacola[\"t\"]"
   ]
  },
  {
   "cell_type": "code",
   "execution_count": 73,
   "metadata": {
    "executionInfo": {
     "elapsed": 355,
     "status": "ok",
     "timestamp": 1629022428782,
     "user": {
      "displayName": "Saurabh Som",
      "photoUrl": "https://lh3.googleusercontent.com/a-/AOh14GhysCJxfbqo_2rWMMZok-n-nLQlva8gC8Q4pSnpB8A=s64",
      "userId": "08770525046703499927"
     },
     "user_tz": -330
    },
    "id": "bAFF6lcfNxA4"
   },
   "outputs": [],
   "source": [
    "Cocacola[\"log_Sales\"] = np.log(Cocacola[\"Sales\"])"
   ]
  },
  {
   "cell_type": "code",
   "execution_count": 74,
   "metadata": {
    "colab": {
     "base_uri": "https://localhost:8080/",
     "height": 204
    },
    "executionInfo": {
     "elapsed": 361,
     "status": "ok",
     "timestamp": 1629022430767,
     "user": {
      "displayName": "Saurabh Som",
      "photoUrl": "https://lh3.googleusercontent.com/a-/AOh14GhysCJxfbqo_2rWMMZok-n-nLQlva8gC8Q4pSnpB8A=s64",
      "userId": "08770525046703499927"
     },
     "user_tz": -330
    },
    "id": "tUQRHxqFPUfQ",
    "outputId": "0c616d90-63eb-4e9d-e674-d7319e232668"
   },
   "outputs": [
    {
     "data": {
      "text/html": [
       "<div>\n",
       "<style scoped>\n",
       "    .dataframe tbody tr th:only-of-type {\n",
       "        vertical-align: middle;\n",
       "    }\n",
       "\n",
       "    .dataframe tbody tr th {\n",
       "        vertical-align: top;\n",
       "    }\n",
       "\n",
       "    .dataframe thead th {\n",
       "        text-align: right;\n",
       "    }\n",
       "</style>\n",
       "<table border=\"1\" class=\"dataframe\">\n",
       "  <thead>\n",
       "    <tr style=\"text-align: right;\">\n",
       "      <th></th>\n",
       "      <th>Quarter</th>\n",
       "      <th>Sales</th>\n",
       "      <th>t</th>\n",
       "      <th>log_Sales</th>\n",
       "    </tr>\n",
       "  </thead>\n",
       "  <tbody>\n",
       "    <tr>\n",
       "      <th>0</th>\n",
       "      <td>Q1_86</td>\n",
       "      <td>1734.827000</td>\n",
       "      <td>1</td>\n",
       "      <td>7.458663</td>\n",
       "    </tr>\n",
       "    <tr>\n",
       "      <th>1</th>\n",
       "      <td>Q2_86</td>\n",
       "      <td>2244.960999</td>\n",
       "      <td>2</td>\n",
       "      <td>7.716443</td>\n",
       "    </tr>\n",
       "    <tr>\n",
       "      <th>2</th>\n",
       "      <td>Q3_86</td>\n",
       "      <td>2533.804993</td>\n",
       "      <td>3</td>\n",
       "      <td>7.837477</td>\n",
       "    </tr>\n",
       "    <tr>\n",
       "      <th>3</th>\n",
       "      <td>Q4_86</td>\n",
       "      <td>2154.962997</td>\n",
       "      <td>4</td>\n",
       "      <td>7.675529</td>\n",
       "    </tr>\n",
       "    <tr>\n",
       "      <th>4</th>\n",
       "      <td>Q1_87</td>\n",
       "      <td>1547.818996</td>\n",
       "      <td>5</td>\n",
       "      <td>7.344602</td>\n",
       "    </tr>\n",
       "  </tbody>\n",
       "</table>\n",
       "</div>"
      ],
      "text/plain": [
       "  Quarter        Sales  t  log_Sales\n",
       "0   Q1_86  1734.827000  1   7.458663\n",
       "1   Q2_86  2244.960999  2   7.716443\n",
       "2   Q3_86  2533.804993  3   7.837477\n",
       "3   Q4_86  2154.962997  4   7.675529\n",
       "4   Q1_87  1547.818996  5   7.344602"
      ]
     },
     "execution_count": 74,
     "metadata": {
      "tags": []
     },
     "output_type": "execute_result"
    }
   ],
   "source": [
    "Cocacola.head()"
   ]
  },
  {
   "cell_type": "code",
   "execution_count": 75,
   "metadata": {
    "executionInfo": {
     "elapsed": 351,
     "status": "ok",
     "timestamp": 1629022434014,
     "user": {
      "displayName": "Saurabh Som",
      "photoUrl": "https://lh3.googleusercontent.com/a-/AOh14GhysCJxfbqo_2rWMMZok-n-nLQlva8gC8Q4pSnpB8A=s64",
      "userId": "08770525046703499927"
     },
     "user_tz": -330
    },
    "id": "aX3Cm02xP8SM"
   },
   "outputs": [],
   "source": [
    "Quarter_values=Cocacola['Quarter'].values"
   ]
  },
  {
   "cell_type": "code",
   "execution_count": 76,
   "metadata": {
    "executionInfo": {
     "elapsed": 4,
     "status": "ok",
     "timestamp": 1629022435219,
     "user": {
      "displayName": "Saurabh Som",
      "photoUrl": "https://lh3.googleusercontent.com/a-/AOh14GhysCJxfbqo_2rWMMZok-n-nLQlva8gC8Q4pSnpB8A=s64",
      "userId": "08770525046703499927"
     },
     "user_tz": -330
    },
    "id": "ksJlx1R9QkPr"
   },
   "outputs": [],
   "source": [
    "l1=[]\n",
    "l2=[]\n",
    "for i in Quarter_values:\n",
    "  l1.append(i.split('_')[0])\n",
    "  l2.append(i.split('_')[1])"
   ]
  },
  {
   "cell_type": "code",
   "execution_count": 77,
   "metadata": {
    "executionInfo": {
     "elapsed": 396,
     "status": "ok",
     "timestamp": 1629022438997,
     "user": {
      "displayName": "Saurabh Som",
      "photoUrl": "https://lh3.googleusercontent.com/a-/AOh14GhysCJxfbqo_2rWMMZok-n-nLQlva8gC8Q4pSnpB8A=s64",
      "userId": "08770525046703499927"
     },
     "user_tz": -330
    },
    "id": "i36_GSabSGsl"
   },
   "outputs": [],
   "source": [
    "a=pd.Series(l1)\n",
    "b=pd.Series(l2)"
   ]
  },
  {
   "cell_type": "code",
   "execution_count": 78,
   "metadata": {
    "colab": {
     "base_uri": "https://localhost:8080/",
     "height": 204
    },
    "executionInfo": {
     "elapsed": 384,
     "status": "ok",
     "timestamp": 1629022444421,
     "user": {
      "displayName": "Saurabh Som",
      "photoUrl": "https://lh3.googleusercontent.com/a-/AOh14GhysCJxfbqo_2rWMMZok-n-nLQlva8gC8Q4pSnpB8A=s64",
      "userId": "08770525046703499927"
     },
     "user_tz": -330
    },
    "id": "bb5Rf2s-RDUS",
    "outputId": "2bd1337b-d537-4bf3-88bb-7440b82fe86a"
   },
   "outputs": [
    {
     "data": {
      "text/html": [
       "<div>\n",
       "<style scoped>\n",
       "    .dataframe tbody tr th:only-of-type {\n",
       "        vertical-align: middle;\n",
       "    }\n",
       "\n",
       "    .dataframe tbody tr th {\n",
       "        vertical-align: top;\n",
       "    }\n",
       "\n",
       "    .dataframe thead th {\n",
       "        text-align: right;\n",
       "    }\n",
       "</style>\n",
       "<table border=\"1\" class=\"dataframe\">\n",
       "  <thead>\n",
       "    <tr style=\"text-align: right;\">\n",
       "      <th></th>\n",
       "      <th>Quarter</th>\n",
       "      <th>Sales</th>\n",
       "      <th>t</th>\n",
       "      <th>log_Sales</th>\n",
       "    </tr>\n",
       "  </thead>\n",
       "  <tbody>\n",
       "    <tr>\n",
       "      <th>0</th>\n",
       "      <td>Q1_86</td>\n",
       "      <td>1734.827000</td>\n",
       "      <td>1</td>\n",
       "      <td>7.458663</td>\n",
       "    </tr>\n",
       "    <tr>\n",
       "      <th>1</th>\n",
       "      <td>Q2_86</td>\n",
       "      <td>2244.960999</td>\n",
       "      <td>2</td>\n",
       "      <td>7.716443</td>\n",
       "    </tr>\n",
       "    <tr>\n",
       "      <th>2</th>\n",
       "      <td>Q3_86</td>\n",
       "      <td>2533.804993</td>\n",
       "      <td>3</td>\n",
       "      <td>7.837477</td>\n",
       "    </tr>\n",
       "    <tr>\n",
       "      <th>3</th>\n",
       "      <td>Q4_86</td>\n",
       "      <td>2154.962997</td>\n",
       "      <td>4</td>\n",
       "      <td>7.675529</td>\n",
       "    </tr>\n",
       "    <tr>\n",
       "      <th>4</th>\n",
       "      <td>Q1_87</td>\n",
       "      <td>1547.818996</td>\n",
       "      <td>5</td>\n",
       "      <td>7.344602</td>\n",
       "    </tr>\n",
       "  </tbody>\n",
       "</table>\n",
       "</div>"
      ],
      "text/plain": [
       "  Quarter        Sales  t  log_Sales\n",
       "0   Q1_86  1734.827000  1   7.458663\n",
       "1   Q2_86  2244.960999  2   7.716443\n",
       "2   Q3_86  2533.804993  3   7.837477\n",
       "3   Q4_86  2154.962997  4   7.675529\n",
       "4   Q1_87  1547.818996  5   7.344602"
      ]
     },
     "execution_count": 78,
     "metadata": {
      "tags": []
     },
     "output_type": "execute_result"
    }
   ],
   "source": [
    "Cocacola.head()"
   ]
  },
  {
   "cell_type": "code",
   "execution_count": 79,
   "metadata": {
    "executionInfo": {
     "elapsed": 374,
     "status": "ok",
     "timestamp": 1629022453916,
     "user": {
      "displayName": "Saurabh Som",
      "photoUrl": "https://lh3.googleusercontent.com/a-/AOh14GhysCJxfbqo_2rWMMZok-n-nLQlva8gC8Q4pSnpB8A=s64",
      "userId": "08770525046703499927"
     },
     "user_tz": -330
    },
    "id": "z6Y-p7VQPcec"
   },
   "outputs": [],
   "source": [
    "Cocacola['Quar']=a\n",
    "Cocacola['Year']=b"
   ]
  },
  {
   "cell_type": "code",
   "execution_count": 80,
   "metadata": {
    "executionInfo": {
     "elapsed": 366,
     "status": "ok",
     "timestamp": 1629022464208,
     "user": {
      "displayName": "Saurabh Som",
      "photoUrl": "https://lh3.googleusercontent.com/a-/AOh14GhysCJxfbqo_2rWMMZok-n-nLQlva8gC8Q4pSnpB8A=s64",
      "userId": "08770525046703499927"
     },
     "user_tz": -330
    },
    "id": "fxgW7AuLSrXT"
   },
   "outputs": [],
   "source": [
    "Quar_dummies=pd.get_dummies(Cocacola['Quar'])"
   ]
  },
  {
   "cell_type": "code",
   "execution_count": 82,
   "metadata": {
    "executionInfo": {
     "elapsed": 365,
     "status": "ok",
     "timestamp": 1629022523328,
     "user": {
      "displayName": "Saurabh Som",
      "photoUrl": "https://lh3.googleusercontent.com/a-/AOh14GhysCJxfbqo_2rWMMZok-n-nLQlva8gC8Q4pSnpB8A=s64",
      "userId": "08770525046703499927"
     },
     "user_tz": -330
    },
    "id": "_LSbyTJBTIxT"
   },
   "outputs": [],
   "source": [
    "Cocacola = Cocacola.join(Quar_dummies)"
   ]
  },
  {
   "cell_type": "code",
   "execution_count": 92,
   "metadata": {
    "colab": {
     "base_uri": "https://localhost:8080/",
     "height": 204
    },
    "executionInfo": {
     "elapsed": 375,
     "status": "ok",
     "timestamp": 1629023088060,
     "user": {
      "displayName": "Saurabh Som",
      "photoUrl": "https://lh3.googleusercontent.com/a-/AOh14GhysCJxfbqo_2rWMMZok-n-nLQlva8gC8Q4pSnpB8A=s64",
      "userId": "08770525046703499927"
     },
     "user_tz": -330
    },
    "id": "_BjTjzhTTxpW",
    "outputId": "891e33f6-8e28-4ee3-88e8-3d69f832973d"
   },
   "outputs": [
    {
     "data": {
      "text/html": [
       "<div>\n",
       "<style scoped>\n",
       "    .dataframe tbody tr th:only-of-type {\n",
       "        vertical-align: middle;\n",
       "    }\n",
       "\n",
       "    .dataframe tbody tr th {\n",
       "        vertical-align: top;\n",
       "    }\n",
       "\n",
       "    .dataframe thead th {\n",
       "        text-align: right;\n",
       "    }\n",
       "</style>\n",
       "<table border=\"1\" class=\"dataframe\">\n",
       "  <thead>\n",
       "    <tr style=\"text-align: right;\">\n",
       "      <th></th>\n",
       "      <th>Quarter</th>\n",
       "      <th>Sales</th>\n",
       "      <th>t</th>\n",
       "      <th>log_Sales</th>\n",
       "      <th>Quar</th>\n",
       "      <th>Year</th>\n",
       "      <th>Q1</th>\n",
       "      <th>Q2</th>\n",
       "      <th>Q3</th>\n",
       "      <th>Q4</th>\n",
       "      <th>t_squared</th>\n",
       "    </tr>\n",
       "  </thead>\n",
       "  <tbody>\n",
       "    <tr>\n",
       "      <th>0</th>\n",
       "      <td>Q1_86</td>\n",
       "      <td>1734.827000</td>\n",
       "      <td>1</td>\n",
       "      <td>7.458663</td>\n",
       "      <td>Q1</td>\n",
       "      <td>86</td>\n",
       "      <td>1</td>\n",
       "      <td>0</td>\n",
       "      <td>0</td>\n",
       "      <td>0</td>\n",
       "      <td>1</td>\n",
       "    </tr>\n",
       "    <tr>\n",
       "      <th>1</th>\n",
       "      <td>Q2_86</td>\n",
       "      <td>2244.960999</td>\n",
       "      <td>2</td>\n",
       "      <td>7.716443</td>\n",
       "      <td>Q2</td>\n",
       "      <td>86</td>\n",
       "      <td>0</td>\n",
       "      <td>1</td>\n",
       "      <td>0</td>\n",
       "      <td>0</td>\n",
       "      <td>4</td>\n",
       "    </tr>\n",
       "    <tr>\n",
       "      <th>2</th>\n",
       "      <td>Q3_86</td>\n",
       "      <td>2533.804993</td>\n",
       "      <td>3</td>\n",
       "      <td>7.837477</td>\n",
       "      <td>Q3</td>\n",
       "      <td>86</td>\n",
       "      <td>0</td>\n",
       "      <td>0</td>\n",
       "      <td>1</td>\n",
       "      <td>0</td>\n",
       "      <td>9</td>\n",
       "    </tr>\n",
       "    <tr>\n",
       "      <th>3</th>\n",
       "      <td>Q4_86</td>\n",
       "      <td>2154.962997</td>\n",
       "      <td>4</td>\n",
       "      <td>7.675529</td>\n",
       "      <td>Q4</td>\n",
       "      <td>86</td>\n",
       "      <td>0</td>\n",
       "      <td>0</td>\n",
       "      <td>0</td>\n",
       "      <td>1</td>\n",
       "      <td>16</td>\n",
       "    </tr>\n",
       "    <tr>\n",
       "      <th>4</th>\n",
       "      <td>Q1_87</td>\n",
       "      <td>1547.818996</td>\n",
       "      <td>5</td>\n",
       "      <td>7.344602</td>\n",
       "      <td>Q1</td>\n",
       "      <td>87</td>\n",
       "      <td>1</td>\n",
       "      <td>0</td>\n",
       "      <td>0</td>\n",
       "      <td>0</td>\n",
       "      <td>25</td>\n",
       "    </tr>\n",
       "  </tbody>\n",
       "</table>\n",
       "</div>"
      ],
      "text/plain": [
       "  Quarter        Sales  t  log_Sales Quar Year  Q1  Q2  Q3  Q4  t_squared\n",
       "0   Q1_86  1734.827000  1   7.458663   Q1   86   1   0   0   0          1\n",
       "1   Q2_86  2244.960999  2   7.716443   Q2   86   0   1   0   0          4\n",
       "2   Q3_86  2533.804993  3   7.837477   Q3   86   0   0   1   0          9\n",
       "3   Q4_86  2154.962997  4   7.675529   Q4   86   0   0   0   1         16\n",
       "4   Q1_87  1547.818996  5   7.344602   Q1   87   1   0   0   0         25"
      ]
     },
     "execution_count": 92,
     "metadata": {
      "tags": []
     },
     "output_type": "execute_result"
    }
   ],
   "source": [
    "Cocacola.head()"
   ]
  },
  {
   "cell_type": "code",
   "execution_count": 84,
   "metadata": {
    "colab": {
     "base_uri": "https://localhost:8080/",
     "height": 514
    },
    "executionInfo": {
     "elapsed": 1500,
     "status": "ok",
     "timestamp": 1629022643831,
     "user": {
      "displayName": "Saurabh Som",
      "photoUrl": "https://lh3.googleusercontent.com/a-/AOh14GhysCJxfbqo_2rWMMZok-n-nLQlva8gC8Q4pSnpB8A=s64",
      "userId": "08770525046703499927"
     },
     "user_tz": -330
    },
    "id": "OkbZff9kT2Bv",
    "outputId": "debf3cc8-d0fb-4521-a2fb-8d0fc93c0c21"
   },
   "outputs": [
    {
     "data": {
      "text/plain": [
       "<matplotlib.axes._subplots.AxesSubplot at 0x7f302c9455d0>"
      ]
     },
     "execution_count": 84,
     "metadata": {
      "tags": []
     },
     "output_type": "execute_result"
    },
    {
     "data": {
      "image/png": "[encoded data removed]",
      "text/plain": [
       "<Figure size 864x576 with 2 Axes>"
      ]
     },
     "metadata": {
      "needs_background": "light",
      "tags": []
     },
     "output_type": "display_data"
    }
   ],
   "source": [
    "plt.figure(figsize=(12,8))\n",
    "heatmap_y_quar = pd.pivot_table(data=Cocacola,values=\"Sales\",index=\"Year\",columns=\"Quar\",aggfunc=\"mean\",fill_value=0)\n",
    "sns.heatmap(heatmap_y_quar,annot=True,fmt=\"g\") #fmt is format of the grid values"
   ]
  },
  {
   "cell_type": "code",
   "execution_count": 85,
   "metadata": {
    "colab": {
     "base_uri": "https://localhost:8080/",
     "height": 405
    },
    "executionInfo": {
     "elapsed": 1258,
     "status": "ok",
     "timestamp": 1629022726664,
     "user": {
      "displayName": "Saurabh Som",
      "photoUrl": "https://lh3.googleusercontent.com/a-/AOh14GhysCJxfbqo_2rWMMZok-n-nLQlva8gC8Q4pSnpB8A=s64",
      "userId": "08770525046703499927"
     },
     "user_tz": -330
    },
    "id": "4oAxUcnKT2M7",
    "outputId": "3abc7137-62c2-44c0-eb74-5fab8770d06e"
   },
   "outputs": [
    {
     "data": {
      "text/plain": [
       "<matplotlib.axes._subplots.AxesSubplot at 0x7f302c6c5950>"
      ]
     },
     "execution_count": 85,
     "metadata": {
      "tags": []
     },
     "output_type": "execute_result"
    },
    {
     "data": {
      "image/png": "[encoded data removed]",
      "text/plain": [
       "<Figure size 576x432 with 2 Axes>"
      ]
     },
     "metadata": {
      "needs_background": "light",
      "tags": []
     },
     "output_type": "display_data"
    }
   ],
   "source": [
    "# Boxplot for ever\n",
    "plt.figure(figsize=(8,6))\n",
    "plt.subplot(211)\n",
    "sns.boxplot(x=\"Year\",y=\"Sales\",data=Cocacola)\n",
    "plt.subplot(212)\n",
    "sns.boxplot(x=\"Year\",y=\"Sales\",data=Cocacola)"
   ]
  },
  {
   "cell_type": "code",
   "execution_count": 86,
   "metadata": {
    "colab": {
     "base_uri": "https://localhost:8080/",
     "height": 242
    },
    "executionInfo": {
     "elapsed": 1303,
     "status": "ok",
     "timestamp": 1629022779392,
     "user": {
      "displayName": "Saurabh Som",
      "photoUrl": "https://lh3.googleusercontent.com/a-/AOh14GhysCJxfbqo_2rWMMZok-n-nLQlva8gC8Q4pSnpB8A=s64",
      "userId": "08770525046703499927"
     },
     "user_tz": -330
    },
    "id": "D56YEmkoUnlg",
    "outputId": "2c0a3c5a-0edd-4b36-9bac-64fe09671576"
   },
   "outputs": [
    {
     "data": {
      "text/plain": [
       "<matplotlib.axes._subplots.AxesSubplot at 0x7f3023a23990>"
      ]
     },
     "execution_count": 86,
     "metadata": {
      "tags": []
     },
     "output_type": "execute_result"
    },
    {
     "data": {
      "image/png": "[encoded data removed]",
      "text/plain": [
       "<Figure size 864x216 with 1 Axes>"
      ]
     },
     "metadata": {
      "needs_background": "light",
      "tags": []
     },
     "output_type": "display_data"
    }
   ],
   "source": [
    "plt.figure(figsize=(12,3))\n",
    "sns.lineplot(x=\"Year\",y=\"Sales\",data=Cocacola)"
   ]
  },
  {
   "cell_type": "markdown",
   "metadata": {
    "id": "bixNoj_TU3MH"
   },
   "source": [
    "# **Splitting Data**"
   ]
  },
  {
   "cell_type": "code",
   "execution_count": 87,
   "metadata": {
    "colab": {
     "base_uri": "https://localhost:8080/"
    },
    "executionInfo": {
     "elapsed": 15,
     "status": "ok",
     "timestamp": 1629022878206,
     "user": {
      "displayName": "Saurabh Som",
      "photoUrl": "https://lh3.googleusercontent.com/a-/AOh14GhysCJxfbqo_2rWMMZok-n-nLQlva8gC8Q4pSnpB8A=s64",
      "userId": "08770525046703499927"
     },
     "user_tz": -330
    },
    "id": "d51jjqLDVEdT",
    "outputId": "89aa4ef0-b207-4efd-8345-2e446ee1958c"
   },
   "outputs": [
    {
     "data": {
      "text/plain": [
       "(42, 10)"
      ]
     },
     "execution_count": 87,
     "metadata": {
      "tags": []
     },
     "output_type": "execute_result"
    }
   ],
   "source": [
    "Cocacola.shape"
   ]
  },
  {
   "cell_type": "code",
   "execution_count": 95,
   "metadata": {
    "executionInfo": {
     "elapsed": 361,
     "status": "ok",
     "timestamp": 1629023145918,
     "user": {
      "displayName": "Saurabh Som",
      "photoUrl": "https://lh3.googleusercontent.com/a-/AOh14GhysCJxfbqo_2rWMMZok-n-nLQlva8gC8Q4pSnpB8A=s64",
      "userId": "08770525046703499927"
     },
     "user_tz": -330
    },
    "id": "U49uywlVU_Ww"
   },
   "outputs": [],
   "source": [
    "Train = Cocacola.head(32)\n",
    "Test = Cocacola.tail(10)"
   ]
  },
  {
   "cell_type": "code",
   "execution_count": 89,
   "metadata": {
    "colab": {
     "base_uri": "https://localhost:8080/"
    },
    "executionInfo": {
     "elapsed": 472,
     "status": "ok",
     "timestamp": 1629022950404,
     "user": {
      "displayName": "Saurabh Som",
      "photoUrl": "https://lh3.googleusercontent.com/a-/AOh14GhysCJxfbqo_2rWMMZok-n-nLQlva8gC8Q4pSnpB8A=s64",
      "userId": "08770525046703499927"
     },
     "user_tz": -330
    },
    "id": "-7De0eQfVLEB",
    "outputId": "9c9134cf-2c27-4585-b55d-dca4f7732ac0"
   },
   "outputs": [
    {
     "name": "stderr",
     "output_type": "stream",
     "text": [
      "/usr/local/lib/python3.7/dist-packages/statsmodels/tools/_testing.py:19: FutureWarning: pandas.util.testing is deprecated. Use the functions in the public API at pandas.testing instead.\n",
      "  import pandas.util.testing as tm\n"
     ]
    },
    {
     "data": {
      "text/plain": [
       "752.923393323219"
      ]
     },
     "execution_count": 89,
     "metadata": {
      "tags": []
     },
     "output_type": "execute_result"
    }
   ],
   "source": [
    "#Linear Model\n",
    "import statsmodels.formula.api as smf \n",
    "\n",
    "linear_model = smf.ols('Sales~t',data=Train).fit()\n",
    "pred_linear =  pd.Series(linear_model.predict(pd.DataFrame(Test['t'])))\n",
    "rmse_linear = np.sqrt(np.mean((np.array(Test['Sales'])-np.array(pred_linear))**2))\n",
    "rmse_linear"
   ]
  },
  {
   "cell_type": "code",
   "execution_count": 90,
   "metadata": {
    "colab": {
     "base_uri": "https://localhost:8080/"
    },
    "executionInfo": {
     "elapsed": 370,
     "status": "ok",
     "timestamp": 1629023002530,
     "user": {
      "displayName": "Saurabh Som",
      "photoUrl": "https://lh3.googleusercontent.com/a-/AOh14GhysCJxfbqo_2rWMMZok-n-nLQlva8gC8Q4pSnpB8A=s64",
      "userId": "08770525046703499927"
     },
     "user_tz": -330
    },
    "id": "iIVaTrkvVbNi",
    "outputId": "467b39bf-0965-403f-ab78-45f93c15b6a4"
   },
   "outputs": [
    {
     "data": {
      "text/plain": [
       "590.3316432612797"
      ]
     },
     "execution_count": 90,
     "metadata": {
      "tags": []
     },
     "output_type": "execute_result"
    }
   ],
   "source": [
    "#Exponential\n",
    "\n",
    "Exp = smf.ols('log_Sales~t',data=Train).fit()\n",
    "pred_Exp = pd.Series(Exp.predict(pd.DataFrame(Test['t'])))\n",
    "rmse_Exp = np.sqrt(np.mean((np.array(Test['Sales'])-np.array(np.exp(pred_Exp)))**2))\n",
    "rmse_Exp"
   ]
  },
  {
   "cell_type": "code",
   "execution_count": 96,
   "metadata": {
    "colab": {
     "base_uri": "https://localhost:8080/"
    },
    "executionInfo": {
     "elapsed": 352,
     "status": "ok",
     "timestamp": 1629023150832,
     "user": {
      "displayName": "Saurabh Som",
      "photoUrl": "https://lh3.googleusercontent.com/a-/AOh14GhysCJxfbqo_2rWMMZok-n-nLQlva8gC8Q4pSnpB8A=s64",
      "userId": "08770525046703499927"
     },
     "user_tz": -330
    },
    "id": "nLCcs93EVmgc",
    "outputId": "080e3974-5503-462d-bbae-312f23835a73"
   },
   "outputs": [
    {
     "data": {
      "text/plain": [
       "457.73573555936656"
      ]
     },
     "execution_count": 96,
     "metadata": {
      "tags": []
     },
     "output_type": "execute_result"
    }
   ],
   "source": [
    "#Quadratic \n",
    "\n",
    "Quad = smf.ols('Sales~t+t_squared',data=Train).fit()\n",
    "pred_Quad = pd.Series(Quad.predict(Test[[\"t\",\"t_squared\"]]))\n",
    "rmse_Quad = np.sqrt(np.mean((np.array(Test['Sales'])-np.array(pred_Quad))**2))\n",
    "rmse_Quad"
   ]
  },
  {
   "cell_type": "code",
   "execution_count": 98,
   "metadata": {
    "colab": {
     "base_uri": "https://localhost:8080/"
    },
    "executionInfo": {
     "elapsed": 597,
     "status": "ok",
     "timestamp": 1629023235807,
     "user": {
      "displayName": "Saurabh Som",
      "photoUrl": "https://lh3.googleusercontent.com/a-/AOh14GhysCJxfbqo_2rWMMZok-n-nLQlva8gC8Q4pSnpB8A=s64",
      "userId": "08770525046703499927"
     },
     "user_tz": -330
    },
    "id": "K3LjYAOgWK9r",
    "outputId": "656b684f-0929-48fe-f1bf-42ac2e54a8e3"
   },
   "outputs": [
    {
     "data": {
      "text/plain": [
       "1850.4665461690342"
      ]
     },
     "execution_count": 98,
     "metadata": {
      "tags": []
     },
     "output_type": "execute_result"
    }
   ],
   "source": [
    "#Additive seasonality \n",
    "\n",
    "add_sea = smf.ols('Sales~Q1+Q2+Q3+Q4',data=Train).fit()\n",
    "pred_add_sea = pd.Series(add_sea.predict(Test[['Q1','Q2','Q3','Q4']]))\n",
    "rmse_add_sea = np.sqrt(np.mean((np.array(Test['Sales'])-np.array(pred_add_sea))**2))\n",
    "rmse_add_sea"
   ]
  },
  {
   "cell_type": "code",
   "execution_count": 99,
   "metadata": {
    "colab": {
     "base_uri": "https://localhost:8080/"
    },
    "executionInfo": {
     "elapsed": 384,
     "status": "ok",
     "timestamp": 1629023325918,
     "user": {
      "displayName": "Saurabh Som",
      "photoUrl": "https://lh3.googleusercontent.com/a-/AOh14GhysCJxfbqo_2rWMMZok-n-nLQlva8gC8Q4pSnpB8A=s64",
      "userId": "08770525046703499927"
     },
     "user_tz": -330
    },
    "id": "DVDvVFJGWfzx",
    "outputId": "109f743f-0592-4ae7-80c5-7681738e94b1"
   },
   "outputs": [
    {
     "data": {
      "text/plain": [
       "277.351077114746"
      ]
     },
     "execution_count": 99,
     "metadata": {
      "tags": []
     },
     "output_type": "execute_result"
    }
   ],
   "source": [
    "#Additive Seasonality Quadratic \n",
    "\n",
    "add_sea_Quad = smf.ols('Sales~t+t_squared+Q1+Q2+Q3+Q4',data=Train).fit()\n",
    "pred_add_sea_quad = pd.Series(add_sea_Quad.predict(Test[['Q1','Q2','Q3','Q4','t','t_squared']]))\n",
    "rmse_add_sea_quad = np.sqrt(np.mean((np.array(Test['Sales'])-np.array(pred_add_sea_quad))**2))\n",
    "rmse_add_sea_quad"
   ]
  },
  {
   "cell_type": "code",
   "execution_count": 102,
   "metadata": {
    "colab": {
     "base_uri": "https://localhost:8080/"
    },
    "executionInfo": {
     "elapsed": 363,
     "status": "ok",
     "timestamp": 1629023502259,
     "user": {
      "displayName": "Saurabh Som",
      "photoUrl": "https://lh3.googleusercontent.com/a-/AOh14GhysCJxfbqo_2rWMMZok-n-nLQlva8gC8Q4pSnpB8A=s64",
      "userId": "08770525046703499927"
     },
     "user_tz": -330
    },
    "id": "Hbs8WTrqXGra",
    "outputId": "9a1b1111-b315-43ec-ddf4-0bf1abb7db5d"
   },
   "outputs": [
    {
     "data": {
      "text/plain": [
       "1908.2503948174192"
      ]
     },
     "execution_count": 102,
     "metadata": {
      "tags": []
     },
     "output_type": "execute_result"
    }
   ],
   "source": [
    "##Multiplicative Seasonality\n",
    "\n",
    "Mul_sea = smf.ols('log_Sales~Q1+Q2+Q3+Q4',data = Train).fit()\n",
    "pred_Mult_sea = pd.Series(Mul_sea.predict(Test))\n",
    "rmse_Mult_sea = np.sqrt(np.mean((np.array(Test['Sales'])-np.array(np.exp(pred_Mult_sea)))**2))\n",
    "rmse_Mult_sea"
   ]
  },
  {
   "cell_type": "code",
   "execution_count": 103,
   "metadata": {
    "colab": {
     "base_uri": "https://localhost:8080/"
    },
    "executionInfo": {
     "elapsed": 390,
     "status": "ok",
     "timestamp": 1629023572064,
     "user": {
      "displayName": "Saurabh Som",
      "photoUrl": "https://lh3.googleusercontent.com/a-/AOh14GhysCJxfbqo_2rWMMZok-n-nLQlva8gC8Q4pSnpB8A=s64",
      "userId": "08770525046703499927"
     },
     "user_tz": -330
    },
    "id": "4KPeTmzQXljh",
    "outputId": "12b686fe-0265-4145-b0b0-49131aa58ffa"
   },
   "outputs": [
    {
     "data": {
      "text/plain": [
       "448.86781837096817"
      ]
     },
     "execution_count": 103,
     "metadata": {
      "tags": []
     },
     "output_type": "execute_result"
    }
   ],
   "source": [
    "#Multiplicative Additive Seasonality \n",
    "\n",
    "Mul_Add_sea = smf.ols('log_Sales~t+Q1+Q2+Q3+Q4',data = Train).fit()\n",
    "pred_Mult_add_sea = pd.Series(Mul_Add_sea.predict(Test))\n",
    "rmse_Mult_add_sea = np.sqrt(np.mean((np.array(Test['Sales'])-np.array(np.exp(pred_Mult_add_sea)))**2))\n",
    "rmse_Mult_add_sea "
   ]
  },
  {
   "cell_type": "code",
   "execution_count": 104,
   "metadata": {
    "colab": {
     "base_uri": "https://localhost:8080/",
     "height": 266
    },
    "executionInfo": {
     "elapsed": 386,
     "status": "ok",
     "timestamp": 1629023589012,
     "user": {
      "displayName": "Saurabh Som",
      "photoUrl": "https://lh3.googleusercontent.com/a-/AOh14GhysCJxfbqo_2rWMMZok-n-nLQlva8gC8Q4pSnpB8A=s64",
      "userId": "08770525046703499927"
     },
     "user_tz": -330
    },
    "id": "1X3h4iCaX0Qn",
    "outputId": "93ec5ad7-08bf-425d-8cfa-74d082adeba0"
   },
   "outputs": [
    {
     "data": {
      "text/html": [
       "<div>\n",
       "<style scoped>\n",
       "    .dataframe tbody tr th:only-of-type {\n",
       "        vertical-align: middle;\n",
       "    }\n",
       "\n",
       "    .dataframe tbody tr th {\n",
       "        vertical-align: top;\n",
       "    }\n",
       "\n",
       "    .dataframe thead th {\n",
       "        text-align: right;\n",
       "    }\n",
       "</style>\n",
       "<table border=\"1\" class=\"dataframe\">\n",
       "  <thead>\n",
       "    <tr style=\"text-align: right;\">\n",
       "      <th></th>\n",
       "      <th>MODEL</th>\n",
       "      <th>RMSE_Values</th>\n",
       "    </tr>\n",
       "  </thead>\n",
       "  <tbody>\n",
       "    <tr>\n",
       "      <th>4</th>\n",
       "      <td>rmse_add_sea_quad</td>\n",
       "      <td>277.351077</td>\n",
       "    </tr>\n",
       "    <tr>\n",
       "      <th>6</th>\n",
       "      <td>rmse_Mult_add_sea</td>\n",
       "      <td>448.867818</td>\n",
       "    </tr>\n",
       "    <tr>\n",
       "      <th>2</th>\n",
       "      <td>rmse_Quad</td>\n",
       "      <td>457.735736</td>\n",
       "    </tr>\n",
       "    <tr>\n",
       "      <th>1</th>\n",
       "      <td>rmse_Exp</td>\n",
       "      <td>590.331643</td>\n",
       "    </tr>\n",
       "    <tr>\n",
       "      <th>0</th>\n",
       "      <td>rmse_linear</td>\n",
       "      <td>752.923393</td>\n",
       "    </tr>\n",
       "    <tr>\n",
       "      <th>3</th>\n",
       "      <td>rmse_add_sea</td>\n",
       "      <td>1850.466546</td>\n",
       "    </tr>\n",
       "    <tr>\n",
       "      <th>5</th>\n",
       "      <td>rmse_Mult_sea</td>\n",
       "      <td>1908.250395</td>\n",
       "    </tr>\n",
       "  </tbody>\n",
       "</table>\n",
       "</div>"
      ],
      "text/plain": [
       "               MODEL  RMSE_Values\n",
       "4  rmse_add_sea_quad   277.351077\n",
       "6  rmse_Mult_add_sea   448.867818\n",
       "2          rmse_Quad   457.735736\n",
       "1           rmse_Exp   590.331643\n",
       "0        rmse_linear   752.923393\n",
       "3       rmse_add_sea  1850.466546\n",
       "5      rmse_Mult_sea  1908.250395"
      ]
     },
     "execution_count": 104,
     "metadata": {
      "tags": []
     },
     "output_type": "execute_result"
    }
   ],
   "source": [
    "#Compare the results \n",
    "\n",
    "data = {\"MODEL\":pd.Series([\"rmse_linear\",\"rmse_Exp\",\"rmse_Quad\",\"rmse_add_sea\",\"rmse_add_sea_quad\",\"rmse_Mult_sea\",\"rmse_Mult_add_sea\"]),\"RMSE_Values\":pd.Series([rmse_linear,rmse_Exp,rmse_Quad,rmse_add_sea,rmse_add_sea_quad,rmse_Mult_sea,rmse_Mult_add_sea])}\n",
    "table_rmse=pd.DataFrame(data)\n",
    "table_rmse.sort_values(['RMSE_Values'])"
   ]
  },
  {
   "cell_type": "code",
   "execution_count": 2,
   "metadata": {},
   "outputs": [],
   "source": [
    "#Final model is built on Additive Seasonality Quadratic"
   ]
  },
  {
   "cell_type": "code",
   "execution_count": 105,
   "metadata": {
    "executionInfo": {
     "elapsed": 362,
     "status": "ok",
     "timestamp": 1629023685053,
     "user": {
      "displayName": "Saurabh Som",
      "photoUrl": "https://lh3.googleusercontent.com/a-/AOh14GhysCJxfbqo_2rWMMZok-n-nLQlva8gC8Q4pSnpB8A=s64",
      "userId": "08770525046703499927"
     },
     "user_tz": -330
    },
    "id": "uwakiYJ8YA9E"
   },
   "outputs": [],
   "source": [
    "#Build the model on entire data set\n",
    "model_full = smf.ols('Sales~t+t_squared+Q1+Q2+Q3+Q4',data=Train).fit()"
   ]
  },
  {
   "cell_type": "code",
   "execution_count": 106,
   "metadata": {
    "colab": {
     "base_uri": "https://localhost:8080/"
    },
    "executionInfo": {
     "elapsed": 351,
     "status": "ok",
     "timestamp": 1629023721055,
     "user": {
      "displayName": "Saurabh Som",
      "photoUrl": "https://lh3.googleusercontent.com/a-/AOh14GhysCJxfbqo_2rWMMZok-n-nLQlva8gC8Q4pSnpB8A=s64",
      "userId": "08770525046703499927"
     },
     "user_tz": -330
    },
    "id": "Qh34DEkkYNCP",
    "outputId": "3e0ed10a-2573-4d3d-facf-d72ad9b0f5c2"
   },
   "outputs": [
    {
     "data": {
      "text/plain": [
       "32    3599.111165\n",
       "33    4264.178607\n",
       "34    4311.803302\n",
       "35    4190.873370\n",
       "36    4141.181850\n",
       "37    4823.418475\n",
       "38    4888.212351\n",
       "39    4784.451601\n",
       "40    4751.929264\n",
       "41    5451.335070\n",
       "dtype: float64"
      ]
     },
     "execution_count": 106,
     "metadata": {
      "tags": []
     },
     "output_type": "execute_result"
    }
   ],
   "source": [
    "pred_new  = pd.Series(model_full.predict(Test))\n",
    "pred_new"
   ]
  },
  {
   "cell_type": "code",
   "execution_count": 107,
   "metadata": {
    "colab": {
     "base_uri": "https://localhost:8080/",
     "height": 359
    },
    "executionInfo": {
     "elapsed": 388,
     "status": "ok",
     "timestamp": 1629023761005,
     "user": {
      "displayName": "Saurabh Som",
      "photoUrl": "https://lh3.googleusercontent.com/a-/AOh14GhysCJxfbqo_2rWMMZok-n-nLQlva8gC8Q4pSnpB8A=s64",
      "userId": "08770525046703499927"
     },
     "user_tz": -330
    },
    "id": "IjICNU-8Yc5q",
    "outputId": "5075ded5-d5d1-4e7c-c7cd-b2caeb0b3765"
   },
   "outputs": [
    {
     "data": {
      "text/html": [
       "<div>\n",
       "<style scoped>\n",
       "    .dataframe tbody tr th:only-of-type {\n",
       "        vertical-align: middle;\n",
       "    }\n",
       "\n",
       "    .dataframe tbody tr th {\n",
       "        vertical-align: top;\n",
       "    }\n",
       "\n",
       "    .dataframe thead th {\n",
       "        text-align: right;\n",
       "    }\n",
       "</style>\n",
       "<table border=\"1\" class=\"dataframe\">\n",
       "  <thead>\n",
       "    <tr style=\"text-align: right;\">\n",
       "      <th></th>\n",
       "      <th>Quarter</th>\n",
       "      <th>Sales</th>\n",
       "      <th>t</th>\n",
       "      <th>log_Sales</th>\n",
       "      <th>Quar</th>\n",
       "      <th>Year</th>\n",
       "      <th>Q1</th>\n",
       "      <th>Q2</th>\n",
       "      <th>Q3</th>\n",
       "      <th>Q4</th>\n",
       "      <th>t_squared</th>\n",
       "    </tr>\n",
       "  </thead>\n",
       "  <tbody>\n",
       "    <tr>\n",
       "      <th>32</th>\n",
       "      <td>Q1_94</td>\n",
       "      <td>3352.0</td>\n",
       "      <td>33</td>\n",
       "      <td>8.117312</td>\n",
       "      <td>Q1</td>\n",
       "      <td>94</td>\n",
       "      <td>1</td>\n",
       "      <td>0</td>\n",
       "      <td>0</td>\n",
       "      <td>0</td>\n",
       "      <td>1089</td>\n",
       "    </tr>\n",
       "    <tr>\n",
       "      <th>33</th>\n",
       "      <td>Q2_94</td>\n",
       "      <td>4342.0</td>\n",
       "      <td>34</td>\n",
       "      <td>8.376090</td>\n",
       "      <td>Q2</td>\n",
       "      <td>94</td>\n",
       "      <td>0</td>\n",
       "      <td>1</td>\n",
       "      <td>0</td>\n",
       "      <td>0</td>\n",
       "      <td>1156</td>\n",
       "    </tr>\n",
       "    <tr>\n",
       "      <th>34</th>\n",
       "      <td>Q3_94</td>\n",
       "      <td>4461.0</td>\n",
       "      <td>35</td>\n",
       "      <td>8.403128</td>\n",
       "      <td>Q3</td>\n",
       "      <td>94</td>\n",
       "      <td>0</td>\n",
       "      <td>0</td>\n",
       "      <td>1</td>\n",
       "      <td>0</td>\n",
       "      <td>1225</td>\n",
       "    </tr>\n",
       "    <tr>\n",
       "      <th>35</th>\n",
       "      <td>Q4_94</td>\n",
       "      <td>4017.0</td>\n",
       "      <td>36</td>\n",
       "      <td>8.298291</td>\n",
       "      <td>Q4</td>\n",
       "      <td>94</td>\n",
       "      <td>0</td>\n",
       "      <td>0</td>\n",
       "      <td>0</td>\n",
       "      <td>1</td>\n",
       "      <td>1296</td>\n",
       "    </tr>\n",
       "    <tr>\n",
       "      <th>36</th>\n",
       "      <td>Q1_95</td>\n",
       "      <td>3854.0</td>\n",
       "      <td>37</td>\n",
       "      <td>8.256867</td>\n",
       "      <td>Q1</td>\n",
       "      <td>95</td>\n",
       "      <td>1</td>\n",
       "      <td>0</td>\n",
       "      <td>0</td>\n",
       "      <td>0</td>\n",
       "      <td>1369</td>\n",
       "    </tr>\n",
       "    <tr>\n",
       "      <th>37</th>\n",
       "      <td>Q2_95</td>\n",
       "      <td>4936.0</td>\n",
       "      <td>38</td>\n",
       "      <td>8.504311</td>\n",
       "      <td>Q2</td>\n",
       "      <td>95</td>\n",
       "      <td>0</td>\n",
       "      <td>1</td>\n",
       "      <td>0</td>\n",
       "      <td>0</td>\n",
       "      <td>1444</td>\n",
       "    </tr>\n",
       "    <tr>\n",
       "      <th>38</th>\n",
       "      <td>Q3_95</td>\n",
       "      <td>4895.0</td>\n",
       "      <td>39</td>\n",
       "      <td>8.495970</td>\n",
       "      <td>Q3</td>\n",
       "      <td>95</td>\n",
       "      <td>0</td>\n",
       "      <td>0</td>\n",
       "      <td>1</td>\n",
       "      <td>0</td>\n",
       "      <td>1521</td>\n",
       "    </tr>\n",
       "    <tr>\n",
       "      <th>39</th>\n",
       "      <td>Q4_95</td>\n",
       "      <td>4333.0</td>\n",
       "      <td>40</td>\n",
       "      <td>8.374015</td>\n",
       "      <td>Q4</td>\n",
       "      <td>95</td>\n",
       "      <td>0</td>\n",
       "      <td>0</td>\n",
       "      <td>0</td>\n",
       "      <td>1</td>\n",
       "      <td>1600</td>\n",
       "    </tr>\n",
       "    <tr>\n",
       "      <th>40</th>\n",
       "      <td>Q1_96</td>\n",
       "      <td>4194.0</td>\n",
       "      <td>41</td>\n",
       "      <td>8.341410</td>\n",
       "      <td>Q1</td>\n",
       "      <td>96</td>\n",
       "      <td>1</td>\n",
       "      <td>0</td>\n",
       "      <td>0</td>\n",
       "      <td>0</td>\n",
       "      <td>1681</td>\n",
       "    </tr>\n",
       "    <tr>\n",
       "      <th>41</th>\n",
       "      <td>Q2_96</td>\n",
       "      <td>5253.0</td>\n",
       "      <td>42</td>\n",
       "      <td>8.566555</td>\n",
       "      <td>Q2</td>\n",
       "      <td>96</td>\n",
       "      <td>0</td>\n",
       "      <td>1</td>\n",
       "      <td>0</td>\n",
       "      <td>0</td>\n",
       "      <td>1764</td>\n",
       "    </tr>\n",
       "  </tbody>\n",
       "</table>\n",
       "</div>"
      ],
      "text/plain": [
       "   Quarter   Sales   t  log_Sales Quar Year  Q1  Q2  Q3  Q4  t_squared\n",
       "32   Q1_94  3352.0  33   8.117312   Q1   94   1   0   0   0       1089\n",
       "33   Q2_94  4342.0  34   8.376090   Q2   94   0   1   0   0       1156\n",
       "34   Q3_94  4461.0  35   8.403128   Q3   94   0   0   1   0       1225\n",
       "35   Q4_94  4017.0  36   8.298291   Q4   94   0   0   0   1       1296\n",
       "36   Q1_95  3854.0  37   8.256867   Q1   95   1   0   0   0       1369\n",
       "37   Q2_95  4936.0  38   8.504311   Q2   95   0   1   0   0       1444\n",
       "38   Q3_95  4895.0  39   8.495970   Q3   95   0   0   1   0       1521\n",
       "39   Q4_95  4333.0  40   8.374015   Q4   95   0   0   0   1       1600\n",
       "40   Q1_96  4194.0  41   8.341410   Q1   96   1   0   0   0       1681\n",
       "41   Q2_96  5253.0  42   8.566555   Q2   96   0   1   0   0       1764"
      ]
     },
     "execution_count": 107,
     "metadata": {
      "tags": []
     },
     "output_type": "execute_result"
    }
   ],
   "source": [
    "Cocacola.tail(10)"
   ]
  }
 ],
 "metadata": {
  "colab": {
   "authorship_tag": "ABX9TyP88UzgmJQNBs3WJlDHMjba",
   "collapsed_sections": [],
   "name": "ColaSales_Forecast.ipynb",
   "provenance": []
  },
  "kernelspec": {
   "display_name": "Python 3",
   "language": "python",
   "name": "python3"
  },
  "language_info": {
   "codemirror_mode": {
    "name": "ipython",
    "version": 3
   },
   "file_extension": ".py",
   "mimetype": "text/x-python",
   "name": "python",
   "nbconvert_exporter": "python",
   "pygments_lexer": "ipython3",
   "version": "3.8.5"
  }
 },
 "nbformat": 4,
 "nbformat_minor": 1
}
